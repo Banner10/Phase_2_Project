{
 "cells": [
  {
   "cell_type": "code",
   "execution_count": 1,
   "metadata": {},
   "outputs": [],
   "source": [
    "import pandas as pd \n",
    "import numpy as np\n",
    "import matplotlib.pyplot as plt   \n",
    "import folium \n",
    "import seaborn as sns \n",
    "plt.style.use('seaborn')\n",
    "import plotly.express as px\n",
    "import scipy.stats as stats\n",
    "\n",
    "import statsmodels.api as sm\n",
    "import statsmodels.formula.api as smf\n",
    "import statsmodels.stats.api as sms\n",
    "\n",
    "from sklearn import linear_model\n",
    "from sklearn.linear_model import LinearRegression\n",
    "from sklearn.model_selection import train_test_split\n",
    "from sklearn.preprocessing import PolynomialFeatures\n",
    "from sklearn.preprocessing import StandardScaler\n",
    "\n",
    "from sklearn.model_selection import train_test_split, cross_val_score, cross_val_predict\n",
    "from sklearn.metrics import mean_squared_error, r2_score"
   ]
  },
  {
   "cell_type": "code",
   "execution_count": 11,
   "metadata": {},
   "outputs": [],
   "source": [
    "from sklearn.linear_model import LinearRegression\n",
    "linreg = LinearRegression()"
   ]
  },
  {
   "cell_type": "code",
   "execution_count": 29,
   "metadata": {},
   "outputs": [
    {
     "name": "stderr",
     "output_type": "stream",
     "text": [
      "/Users/andrewbanner/opt/anaconda3/envs/learn-env/lib/python3.6/site-packages/numpy/core/fromnumeric.py:2580: FutureWarning:\n",
      "\n",
      "Method .ptp is deprecated and will be removed in a future version. Use numpy.ptp instead.\n",
      "\n"
     ]
    }
   ],
   "source": [
    "data = pd.read_csv('kc_house_data.csv')\n",
    "data = sm.add_constant(data)"
   ]
  },
  {
   "cell_type": "code",
   "execution_count": 30,
   "metadata": {},
   "outputs": [],
   "source": [
    "X = data.drop(['price','date', 'id'], axis=1)\n",
    "y = data['price']"
   ]
  },
  {
   "cell_type": "code",
   "execution_count": 34,
   "metadata": {},
   "outputs": [],
   "source": [
    "X_train, X_test, y_train, y_test = train_test_split(X, y, test_size=0.20, random_state=42)"
   ]
  },
  {
   "cell_type": "code",
   "execution_count": 35,
   "metadata": {},
   "outputs": [
    {
     "data": {
      "text/html": [
       "<table class=\"simpletable\">\n",
       "<caption>OLS Regression Results</caption>\n",
       "<tr>\n",
       "  <th>Dep. Variable:</th>          <td>price</td>      <th>  R-squared:         </th>  <td>   0.700</td>  \n",
       "</tr>\n",
       "<tr>\n",
       "  <th>Model:</th>                   <td>OLS</td>       <th>  Adj. R-squared:    </th>  <td>   0.700</td>  \n",
       "</tr>\n",
       "<tr>\n",
       "  <th>Method:</th>             <td>Least Squares</td>  <th>  F-statistic:       </th>  <td>   2960.</td>  \n",
       "</tr>\n",
       "<tr>\n",
       "  <th>Date:</th>             <td>Sat, 28 Nov 2020</td> <th>  Prob (F-statistic):</th>   <td>  0.00</td>   \n",
       "</tr>\n",
       "<tr>\n",
       "  <th>Time:</th>                 <td>15:44:07</td>     <th>  Log-Likelihood:    </th> <td>-2.9460e+05</td>\n",
       "</tr>\n",
       "<tr>\n",
       "  <th>No. Observations:</th>      <td> 21613</td>      <th>  AIC:               </th>  <td>5.892e+05</td> \n",
       "</tr>\n",
       "<tr>\n",
       "  <th>Df Residuals:</th>          <td> 21595</td>      <th>  BIC:               </th>  <td>5.894e+05</td> \n",
       "</tr>\n",
       "<tr>\n",
       "  <th>Df Model:</th>              <td>    17</td>      <th>                     </th>      <td> </td>     \n",
       "</tr>\n",
       "<tr>\n",
       "  <th>Covariance Type:</th>      <td>nonrobust</td>    <th>                     </th>      <td> </td>     \n",
       "</tr>\n",
       "</table>\n",
       "<table class=\"simpletable\">\n",
       "<tr>\n",
       "        <td></td>           <th>coef</th>     <th>std err</th>      <th>t</th>      <th>P>|t|</th>  <th>[0.025</th>    <th>0.975]</th>  \n",
       "</tr>\n",
       "<tr>\n",
       "  <th>const</th>         <td>  6.69e+06</td> <td> 2.93e+06</td> <td>    2.282</td> <td> 0.022</td> <td> 9.44e+05</td> <td> 1.24e+07</td>\n",
       "</tr>\n",
       "<tr>\n",
       "  <th>bedrooms</th>      <td>-3.577e+04</td> <td> 1891.843</td> <td>  -18.906</td> <td> 0.000</td> <td>-3.95e+04</td> <td>-3.21e+04</td>\n",
       "</tr>\n",
       "<tr>\n",
       "  <th>bathrooms</th>     <td> 4.114e+04</td> <td> 3253.678</td> <td>   12.645</td> <td> 0.000</td> <td> 3.48e+04</td> <td> 4.75e+04</td>\n",
       "</tr>\n",
       "<tr>\n",
       "  <th>sqft_living</th>   <td>  110.4404</td> <td>    2.270</td> <td>   48.661</td> <td> 0.000</td> <td>  105.992</td> <td>  114.889</td>\n",
       "</tr>\n",
       "<tr>\n",
       "  <th>sqft_lot</th>      <td>    0.1286</td> <td>    0.048</td> <td>    2.683</td> <td> 0.007</td> <td>    0.035</td> <td>    0.223</td>\n",
       "</tr>\n",
       "<tr>\n",
       "  <th>floors</th>        <td> 6689.5501</td> <td> 3595.859</td> <td>    1.860</td> <td> 0.063</td> <td> -358.599</td> <td> 1.37e+04</td>\n",
       "</tr>\n",
       "<tr>\n",
       "  <th>waterfront</th>    <td>  5.83e+05</td> <td> 1.74e+04</td> <td>   33.580</td> <td> 0.000</td> <td> 5.49e+05</td> <td> 6.17e+05</td>\n",
       "</tr>\n",
       "<tr>\n",
       "  <th>view</th>          <td> 5.287e+04</td> <td> 2140.055</td> <td>   24.705</td> <td> 0.000</td> <td> 4.87e+04</td> <td> 5.71e+04</td>\n",
       "</tr>\n",
       "<tr>\n",
       "  <th>condition</th>     <td> 2.639e+04</td> <td> 2351.461</td> <td>   11.221</td> <td> 0.000</td> <td> 2.18e+04</td> <td>  3.1e+04</td>\n",
       "</tr>\n",
       "<tr>\n",
       "  <th>grade</th>         <td> 9.589e+04</td> <td> 2152.789</td> <td>   44.542</td> <td> 0.000</td> <td> 9.17e+04</td> <td>    1e+05</td>\n",
       "</tr>\n",
       "<tr>\n",
       "  <th>sqft_above</th>    <td>   70.7877</td> <td>    2.253</td> <td>   31.415</td> <td> 0.000</td> <td>   66.371</td> <td>   75.204</td>\n",
       "</tr>\n",
       "<tr>\n",
       "  <th>sqft_basement</th> <td>   39.6601</td> <td>    2.647</td> <td>   14.985</td> <td> 0.000</td> <td>   34.473</td> <td>   44.848</td>\n",
       "</tr>\n",
       "<tr>\n",
       "  <th>yr_built</th>      <td>-2620.2232</td> <td>   72.659</td> <td>  -36.062</td> <td> 0.000</td> <td>-2762.640</td> <td>-2477.806</td>\n",
       "</tr>\n",
       "<tr>\n",
       "  <th>yr_renovated</th>  <td>   19.8126</td> <td>    3.656</td> <td>    5.420</td> <td> 0.000</td> <td>   12.647</td> <td>   26.978</td>\n",
       "</tr>\n",
       "<tr>\n",
       "  <th>zipcode</th>       <td> -582.4199</td> <td>   32.986</td> <td>  -17.657</td> <td> 0.000</td> <td> -647.074</td> <td> -517.765</td>\n",
       "</tr>\n",
       "<tr>\n",
       "  <th>lat</th>           <td> 6.027e+05</td> <td> 1.07e+04</td> <td>   56.149</td> <td> 0.000</td> <td> 5.82e+05</td> <td> 6.24e+05</td>\n",
       "</tr>\n",
       "<tr>\n",
       "  <th>long</th>          <td>-2.147e+05</td> <td> 1.31e+04</td> <td>  -16.349</td> <td> 0.000</td> <td> -2.4e+05</td> <td>-1.89e+05</td>\n",
       "</tr>\n",
       "<tr>\n",
       "  <th>sqft_living15</th> <td>   21.6814</td> <td>    3.448</td> <td>    6.289</td> <td> 0.000</td> <td>   14.924</td> <td>   28.439</td>\n",
       "</tr>\n",
       "<tr>\n",
       "  <th>sqft_lot15</th>    <td>   -0.3826</td> <td>    0.073</td> <td>   -5.222</td> <td> 0.000</td> <td>   -0.526</td> <td>   -0.239</td>\n",
       "</tr>\n",
       "</table>\n",
       "<table class=\"simpletable\">\n",
       "<tr>\n",
       "  <th>Omnibus:</th>       <td>18384.201</td> <th>  Durbin-Watson:     </th>  <td>   1.990</td>  \n",
       "</tr>\n",
       "<tr>\n",
       "  <th>Prob(Omnibus):</th>  <td> 0.000</td>   <th>  Jarque-Bera (JB):  </th> <td>1868224.491</td>\n",
       "</tr>\n",
       "<tr>\n",
       "  <th>Skew:</th>           <td> 3.566</td>   <th>  Prob(JB):          </th>  <td>    0.00</td>  \n",
       "</tr>\n",
       "<tr>\n",
       "  <th>Kurtosis:</th>       <td>47.985</td>   <th>  Cond. No.          </th>  <td>3.55e+17</td>  \n",
       "</tr>\n",
       "</table><br/><br/>Warnings:<br/>[1] Standard Errors assume that the covariance matrix of the errors is correctly specified.<br/>[2] The smallest eigenvalue is 1.74e-21. This might indicate that there are<br/>strong multicollinearity problems or that the design matrix is singular."
      ],
      "text/plain": [
       "<class 'statsmodels.iolib.summary.Summary'>\n",
       "\"\"\"\n",
       "                            OLS Regression Results                            \n",
       "==============================================================================\n",
       "Dep. Variable:                  price   R-squared:                       0.700\n",
       "Model:                            OLS   Adj. R-squared:                  0.700\n",
       "Method:                 Least Squares   F-statistic:                     2960.\n",
       "Date:                Sat, 28 Nov 2020   Prob (F-statistic):               0.00\n",
       "Time:                        15:44:07   Log-Likelihood:            -2.9460e+05\n",
       "No. Observations:               21613   AIC:                         5.892e+05\n",
       "Df Residuals:                   21595   BIC:                         5.894e+05\n",
       "Df Model:                          17                                         \n",
       "Covariance Type:            nonrobust                                         \n",
       "=================================================================================\n",
       "                    coef    std err          t      P>|t|      [0.025      0.975]\n",
       "---------------------------------------------------------------------------------\n",
       "const           6.69e+06   2.93e+06      2.282      0.022    9.44e+05    1.24e+07\n",
       "bedrooms      -3.577e+04   1891.843    -18.906      0.000   -3.95e+04   -3.21e+04\n",
       "bathrooms      4.114e+04   3253.678     12.645      0.000    3.48e+04    4.75e+04\n",
       "sqft_living     110.4404      2.270     48.661      0.000     105.992     114.889\n",
       "sqft_lot          0.1286      0.048      2.683      0.007       0.035       0.223\n",
       "floors         6689.5501   3595.859      1.860      0.063    -358.599    1.37e+04\n",
       "waterfront      5.83e+05   1.74e+04     33.580      0.000    5.49e+05    6.17e+05\n",
       "view           5.287e+04   2140.055     24.705      0.000    4.87e+04    5.71e+04\n",
       "condition      2.639e+04   2351.461     11.221      0.000    2.18e+04     3.1e+04\n",
       "grade          9.589e+04   2152.789     44.542      0.000    9.17e+04       1e+05\n",
       "sqft_above       70.7877      2.253     31.415      0.000      66.371      75.204\n",
       "sqft_basement    39.6601      2.647     14.985      0.000      34.473      44.848\n",
       "yr_built      -2620.2232     72.659    -36.062      0.000   -2762.640   -2477.806\n",
       "yr_renovated     19.8126      3.656      5.420      0.000      12.647      26.978\n",
       "zipcode        -582.4199     32.986    -17.657      0.000    -647.074    -517.765\n",
       "lat            6.027e+05   1.07e+04     56.149      0.000    5.82e+05    6.24e+05\n",
       "long          -2.147e+05   1.31e+04    -16.349      0.000    -2.4e+05   -1.89e+05\n",
       "sqft_living15    21.6814      3.448      6.289      0.000      14.924      28.439\n",
       "sqft_lot15       -0.3826      0.073     -5.222      0.000      -0.526      -0.239\n",
       "==============================================================================\n",
       "Omnibus:                    18384.201   Durbin-Watson:                   1.990\n",
       "Prob(Omnibus):                  0.000   Jarque-Bera (JB):          1868224.491\n",
       "Skew:                           3.566   Prob(JB):                         0.00\n",
       "Kurtosis:                      47.985   Cond. No.                     3.55e+17\n",
       "==============================================================================\n",
       "\n",
       "Warnings:\n",
       "[1] Standard Errors assume that the covariance matrix of the errors is correctly specified.\n",
       "[2] The smallest eigenvalue is 1.74e-21. This might indicate that there are\n",
       "strong multicollinearity problems or that the design matrix is singular.\n",
       "\"\"\""
      ]
     },
     "execution_count": 35,
     "metadata": {},
     "output_type": "execute_result"
    }
   ],
   "source": [
    "lm = sm.OLS(y, X)\n",
    "model_baseline = lm.fit()\n",
    "model_baseline.summary()"
   ]
  },
  {
   "cell_type": "code",
   "execution_count": 27,
   "metadata": {},
   "outputs": [
    {
     "data": {
      "image/png": "[encoded data removed]",
      "text/plain": [
       "<Figure size 432x288 with 1 Axes>"
      ]
     },
     "metadata": {
      "needs_background": "light"
     },
     "output_type": "display_data"
    }
   ],
   "source": [
    "fig = sm.graphics.qqplot(model_baseline.resid, dist=stats.norm, line='45', fit=True)"
   ]
  },
  {
   "cell_type": "code",
   "execution_count": 37,
   "metadata": {},
   "outputs": [
    {
     "name": "stdout",
     "output_type": "stream",
     "text": [
      "RMSE for train set: 198314.69151864786\n",
      "RMSE for test set: 212177.2460014539\n",
      "MSE difference: -13862.554482806037\n",
      "10 Cross Validation R^2 score for train: 0.6989515276379131\n",
      "10 Cross Validation R^2 score for test: 0.6950196377779578\n"
     ]
    }
   ],
   "source": [
    "print('RMSE for train set:', np.sqrt(mean_squared_error(y_train, model_baseline.predict(X_train))))\n",
    "print('RMSE for test set:', np.sqrt(mean_squared_error(y_test, model_baseline.predict(X_test))))\n",
    "print('MSE difference:', np.sqrt(mean_squared_error(y_train, model_baseline.predict(X_train))) - np.sqrt(mean_squared_error(y_test, model_baseline.predict(X_test))))\n",
    "print('10 Cross Validation R^2 score for train:', cross_val_score(linreg, X_train, y_train, cv=10, scoring='r2').mean())\n",
    "print('10 Cross Validation R^2 score for test:', cross_val_score(linreg, X_test, y_test, cv=10, scoring='r2').mean())"
   ]
  },
  {
   "cell_type": "code",
   "execution_count": null,
   "metadata": {},
   "outputs": [],
   "source": []
  }
 ],
 "metadata": {
  "kernelspec": {
   "display_name": "learn-env",
   "language": "python",
   "name": "learn-env"
  },
  "language_info": {
   "codemirror_mode": {
    "name": "ipython",
    "version": 3
   },
   "file_extension": ".py",
   "mimetype": "text/x-python",
   "name": "python",
   "nbconvert_exporter": "python",
   "pygments_lexer": "ipython3",
   "version": "3.6.9"
  }
 },
 "nbformat": 4,
 "nbformat_minor": 4
}
