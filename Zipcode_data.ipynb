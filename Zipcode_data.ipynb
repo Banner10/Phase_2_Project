{
 "cells": [
  {
   "cell_type": "code",
   "execution_count": 1,
   "metadata": {},
   "outputs": [
    {
     "name": "stdout",
     "output_type": "stream",
     "text": [
      "Collecting uszipcode\n",
      "  Downloading uszipcode-0.2.4-py2.py3-none-any.whl (378 kB)\n",
      "\u001b[K     |████████████████████████████████| 378 kB 2.2 MB/s eta 0:00:01\n",
      "\u001b[?25hRequirement already satisfied: requests in /Users/andrewbanner/opt/anaconda3/lib/python3.8/site-packages (from uszipcode) (2.24.0)\n",
      "Requirement already satisfied: attrs in /Users/andrewbanner/opt/anaconda3/lib/python3.8/site-packages (from uszipcode) (19.3.0)\n",
      "Collecting pathlib-mate\n",
      "  Downloading pathlib_mate-1.0.0-py2.py3-none-any.whl (77 kB)\n",
      "\u001b[K     |████████████████████████████████| 77 kB 4.1 MB/s eta 0:00:011\n",
      "\u001b[?25hRequirement already satisfied: sqlalchemy in /Users/andrewbanner/opt/anaconda3/lib/python3.8/site-packages (from uszipcode) (1.3.18)\n",
      "Requirement already satisfied: urllib3!=1.25.0,!=1.25.1,<1.26,>=1.21.1 in /Users/andrewbanner/opt/anaconda3/lib/python3.8/site-packages (from requests->uszipcode) (1.25.9)\n",
      "Requirement already satisfied: idna<3,>=2.5 in /Users/andrewbanner/opt/anaconda3/lib/python3.8/site-packages (from requests->uszipcode) (2.10)\n",
      "Requirement already satisfied: certifi>=2017.4.17 in /Users/andrewbanner/opt/anaconda3/lib/python3.8/site-packages (from requests->uszipcode) (2020.6.20)\n",
      "Requirement already satisfied: chardet<4,>=3.0.2 in /Users/andrewbanner/opt/anaconda3/lib/python3.8/site-packages (from requests->uszipcode) (3.0.4)\n",
      "Requirement already satisfied: autopep8 in /Users/andrewbanner/opt/anaconda3/lib/python3.8/site-packages (from pathlib-mate->uszipcode) (1.5.3)\n",
      "Requirement already satisfied: six in /Users/andrewbanner/opt/anaconda3/lib/python3.8/site-packages (from pathlib-mate->uszipcode) (1.15.0)\n",
      "Requirement already satisfied: toml in /Users/andrewbanner/opt/anaconda3/lib/python3.8/site-packages (from autopep8->pathlib-mate->uszipcode) (0.10.1)\n",
      "Requirement already satisfied: pycodestyle>=2.6.0 in /Users/andrewbanner/opt/anaconda3/lib/python3.8/site-packages (from autopep8->pathlib-mate->uszipcode) (2.6.0)\n",
      "Installing collected packages: pathlib-mate, uszipcode\n",
      "Successfully installed pathlib-mate-1.0.0 uszipcode-0.2.4\n",
      "Note: you may need to restart the kernel to use updated packages.\n"
     ]
    }
   ],
   "source": [
    "pip install uszipcode"
   ]
  },
  {
   "cell_type": "code",
   "execution_count": 7,
   "metadata": {},
   "outputs": [
    {
     "name": "stdout",
     "output_type": "stream",
     "text": [
      "Start downloading data for simple zipcode database, total size 9MB ...\n",
      "  1 MB finished ...\n",
      "  2 MB finished ...\n",
      "  3 MB finished ...\n",
      "  4 MB finished ...\n",
      "  5 MB finished ...\n",
      "  6 MB finished ...\n",
      "  7 MB finished ...\n",
      "  8 MB finished ...\n",
      "  9 MB finished ...\n",
      "  10 MB finished ...\n",
      "  Complete!\n"
     ]
    }
   ],
   "source": [
    "from uszipcode import SearchEngine\n",
    "search = SearchEngine(simple_zipcode=True)"
   ]
  },
  {
   "cell_type": "code",
   "execution_count": 8,
   "metadata": {},
   "outputs": [
    {
     "data": {
      "text/plain": [
       "SimpleZipcode(zipcode='80033', zipcode_type='Standard', major_city='Wheat Ridge', post_office_city='Wheat Ridge, CO', common_city_list=['Wheat Ridge', 'Denver'], county='Jefferson County', state='CO', lat=39.77, lng=-105.1, timezone='Mountain', radius_in_miles=3.0, area_code_list=['303'], population=23969, population_density=2894.0, land_area_in_sqmi=8.28, water_area_in_sqmi=0.26, housing_units=11817, occupied_housing_units=11134, median_home_value=235000, median_household_income=47841, bounds_west=-105.143412, bounds_east=-105.061446, bounds_north=39.794733, bounds_south=39.754715)"
      ]
     },
     "execution_count": 8,
     "metadata": {},
     "output_type": "execute_result"
    }
   ],
   "source": [
    "zipcode = search.by_zipcode(\"80033\")\n",
    "zipcode"
   ]
  },
  {
   "cell_type": "code",
   "execution_count": null,
   "metadata": {},
   "outputs": [],
   "source": []
  }
 ],
 "metadata": {
  "kernelspec": {
   "display_name": "Python 3",
   "language": "python",
   "name": "python3"
  },
  "language_info": {
   "codemirror_mode": {
    "name": "ipython",
    "version": 3
   },
   "file_extension": ".py",
   "mimetype": "text/x-python",
   "name": "python",
   "nbconvert_exporter": "python",
   "pygments_lexer": "ipython3",
   "version": "3.8.3"
  }
 },
 "nbformat": 4,
 "nbformat_minor": 4
}
